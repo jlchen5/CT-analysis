{
 "cells": [
  {
   "cell_type": "code",
   "execution_count": 12,
   "metadata": {
    "ExecuteTime": {
     "end_time": "2023-12-11T13:14:37.559232Z",
     "start_time": "2023-12-11T13:14:37.430517Z"
    }
   },
   "outputs": [
    {
     "name": "stdout",
     "output_type": "stream",
     "text": [
      "Using matplotlib backend: MacOSX\n"
     ]
    }
   ],
   "source": [
    "import numpy as np\n",
    "import matplotlib.pyplot as plt\n",
    "#% inline\n",
    "%matplotlib\n",
    "import PIL.Image\n",
    "import networkx as nx\n",
    "import pandas as pd\n",
    "import string\n",
    "\n",
    "from functions.genome_topology import open_pdb\n",
    "from functions.genome_topology import select_chrom\n",
    "from functions.genome_topology import geom_distance\n",
    "from functions.genome_topology import make_graph\n",
    "from functions.genome_topology import fractal_dimension\n",
    "from functions.genome_topology import get_matrix\n",
    "from functions.genome_topology import normalize_psc\n",
    "from functions.plotting_tools import set_layout\n",
    "from functions.plotting_tools import matrix_plot"
   ]
  },
  {
   "cell_type": "markdown",
   "metadata": {},
   "source": [
    "## CIRCUIT TOPOLOGY ANALISIS OF CHROMOSOME 3D STRUCTURES"
   ]
  },
  {
   "cell_type": "markdown",
   "metadata": {},
   "source": [
    "This notebook processes 3D structures of chromosomes (in PDB format) to extract topological parameters such as:\n",
    "- CT parameters (percentage of series, parallel and cross, number of contacts) \n",
    "- Network clustering coefficient\n",
    "- Fractal dimension (calculated over the CT topology matrix)\n",
    "\n",
    "First, the PDB structures are processed in order to find spatial contacts. A spatial cutoff needs to be defined for contact selection (suggested range of values: 1.0-2.0). Chromosome ID is expressed as letters (ex: 'chr a'). It is possible to save the topology matrix in TIF format, and the topological parameters in csv format."
   ]
  },
  {
   "cell_type": "markdown",
   "metadata": {},
   "source": [
    "Choose paramters: cell number, cutoff radius and number of neighbors to exclude from the analysis"
   ]
  },
  {
   "cell_type": "code",
   "execution_count": 13,
   "metadata": {},
   "outputs": [
    {
     "name": "stdout",
     "output_type": "stream",
     "text": [
      "analyzing Cell_ID-01\n"
     ]
    }
   ],
   "source": [
    "path = 'data/pdb/Cell_ID-01'\n",
    "r_cutoff=1.0\n",
    "neighbours=1\n",
    "set_layout()\n",
    "n_all_chr=23\n",
    "letters=list(string.ascii_lowercase)\n",
    "chr_vec=['chr {}'.format(letter) for letter in letters[:n_all_chr]]\n",
    "cell=path[-10:]\n",
    "\n",
    "print('analyzing {}'.format(cell))"
   ]
  },
  {
   "cell_type": "markdown",
   "metadata": {},
   "source": [
    "### PROCESS SINGLE CHROMOSOME"
   ]
  },
  {
   "cell_type": "code",
   "execution_count": 14,
   "metadata": {},
   "outputs": [],
   "source": [
    "save_data= True\n",
    "save_matrix= True\n",
    "path_savematrix='results/matrices'\n",
    "path_savedata='results/CT parameters'"
   ]
  },
  {
   "cell_type": "code",
   "execution_count": 21,
   "metadata": {},
   "outputs": [],
   "source": [
    "#Choose chromosome\n",
    "chosen_chr=2 \n",
    "\n",
    "#Find contacts\n",
    "n, coord= select_chrom(chosen_chr, path)\n",
    "dist, n_contact, index=geom_distance(coord, r_cutoff, neighbours)\n",
    "\n",
    "#Extract topological parameters\n",
    "mat, stats = get_matrix(index,chr_vec[chosen_chr])\n",
    "P, S, X=normalize_psc(stats, len(index))\n",
    "Dim_fractal, r2=fractal_dimension(mat, plot_fig=0)\n",
    "\n",
    "#Build network and calculate clustering coefficient\n",
    "G=make_graph(index)\n",
    "clustering= nx.average_clustering(G)\n",
    "\n",
    "#plot figures\n",
    "#Plot 2D projections of chromosome choordinate\n",
    "plt.figure()\n",
    "plt.plot(coord[:,0], coord[:,2])\n",
    "plt.title('CHROMOSOME {}'.format(chr_vec[chosen_chr][-1:].upper()))\n",
    "plt.xlabel('y')\n",
    "plt.ylabel('z')\n",
    "\n",
    "#Plot topology matrix\n",
    "plt.figure(figsize=(7, 7))\n",
    "plt.imshow(mat)\n",
    "plt.show()\n",
    "# PIL.Image.fromarray(mat.astype(np.uint8)).save(\"{}/top_matrix_{}_{}.tif\".format(path_savematrix, cell, chr_vec[chosen_chr]))\n"
   ]
  },
  {
   "cell_type": "code",
   "execution_count": 18,
   "metadata": {},
   "outputs": [],
   "source": [
    "plt.figure()\n",
    "matrix_plot(mat, 'chrom {}'.format(chosen_chr))\n",
    "\n",
    "plt.savefig('chrom{}_mat.pdf'.format(chosen_chr))\n"
   ]
  },
  {
   "cell_type": "markdown",
   "metadata": {},
   "source": [
    "# PROCESS ALL CHROMOSOMES IN A CELL"
   ]
  },
  {
   "cell_type": "markdown",
   "metadata": {},
   "source": [
    "Set path for printing results"
   ]
  },
  {
   "cell_type": "code",
   "execution_count": 37,
   "metadata": {},
   "outputs": [],
   "source": [
    "save_data= True\n",
    "save_matrix= True\n",
    "plot_matrix=True\n",
    "#path_savematrix='results/matrices/{}'.format(cell)\n",
    "path_savematrix='results/matrices'\n",
    "path_savedata='results/CT parameters'"
   ]
  },
  {
   "cell_type": "markdown",
   "metadata": {},
   "source": [
    "Loop over all chromosomes in a cell"
   ]
  },
  {
   "cell_type": "code",
   "execution_count": 38,
   "metadata": {},
   "outputs": [
    {
     "name": "stderr",
     "output_type": "stream",
     "text": [
      "/var/folders/dp/dd_rnstn2flf9syvmjtgd7400000gn/T/ipykernel_71339/642667783.py:20: RuntimeWarning: More than 20 figures have been opened. Figures created through the pyplot interface (`matplotlib.pyplot.figure`) are retained until explicitly closed and may consume too much memory. (To control this warning, see the rcParam `figure.max_open_warning`). Consider using `matplotlib.pyplot.close()`.\n",
      "  plt.figure(figsize=(7, 7))\n"
     ]
    },
    {
     "ename": "KeyboardInterrupt",
     "evalue": "",
     "output_type": "error",
     "traceback": [
      "\u001b[0;31m---------------------------------------------------------------------------\u001b[0m",
      "\u001b[0;31mKeyboardInterrupt\u001b[0m                         Traceback (most recent call last)",
      "Cell \u001b[0;32mIn[38], line 12\u001b[0m\n\u001b[1;32m     10\u001b[0m n, coord\u001b[38;5;241m=\u001b[39m select_chrom(t, path)\n\u001b[1;32m     11\u001b[0m dist, n_contact, index\u001b[38;5;241m=\u001b[39mgeom_distance(coord, r_cutoff, neighbours)\n\u001b[0;32m---> 12\u001b[0m mat, stats \u001b[38;5;241m=\u001b[39m \u001b[43mget_matrix\u001b[49m\u001b[43m(\u001b[49m\u001b[43mindex\u001b[49m\u001b[43m,\u001b[49m\u001b[43mchr_vec\u001b[49m\u001b[43m[\u001b[49m\u001b[38;5;241;43m0\u001b[39;49m\u001b[43m]\u001b[49m\u001b[43m)\u001b[49m\n\u001b[1;32m     13\u001b[0m P[t], S[t], X[t]\u001b[38;5;241m=\u001b[39mnormalize_psc(stats, \u001b[38;5;28mlen\u001b[39m(index))\n\u001b[1;32m     14\u001b[0m N_contacts[t]\u001b[38;5;241m=\u001b[39m\u001b[38;5;28mlen\u001b[39m(index)\n",
      "File \u001b[0;32m~/Desktop/PhD/CT/Pang_2022_GenomeBiol_3D/functions/genome_topology.py:-1\u001b[0m, in \u001b[0;36mget_matrix\u001b[0;34m(index, protid)\u001b[0m\n\u001b[1;32m      0\u001b[0m <Error retrieving source code with stack_data see ipython/ipython#13598>\n",
      "\u001b[0;31mKeyboardInterrupt\u001b[0m: "
     ]
    }
   ],
   "source": [
    "P=np.zeros(n_all_chr)\n",
    "S=np.zeros(n_all_chr)\n",
    "X=np.zeros(n_all_chr)\n",
    "N_contacts=np.zeros(n_all_chr)\n",
    "Dim_fractal=np.zeros(n_all_chr)\n",
    "r2_fractalfit=np.zeros(n_all_chr)\n",
    "clustering=np.zeros(n_all_chr)\n",
    "\n",
    "for t in range(n_all_chr):\n",
    "    n, coord= select_chrom(t, path)\n",
    "    dist, n_contact, index=geom_distance(coord, r_cutoff, neighbours)\n",
    "    mat, stats = get_matrix(index,chr_vec[0])\n",
    "    P[t], S[t], X[t]=normalize_psc(stats, len(index))\n",
    "    N_contacts[t]=len(index)\n",
    "    Dim_fractal[t], r2_fractalfit[t]=fractal_dimension(mat, plot_fig=0)\n",
    "    G=make_graph(index)\n",
    "    clustering[t]= nx.average_clustering(G)\n",
    "    \n",
    "    if plot_matrix:\n",
    "        plt.figure(figsize=(7, 7))\n",
    "        plt.imshow(mat)\n",
    "        plt.title('CHROMOSOME {}'.format(chr_vec[t][-1:].upper()))\n",
    "    \n",
    "    if save_matrix:\n",
    "        PIL.Image.fromarray(mat.astype(float)).save(\"{}/top_matrix_{}_{}.tif\".format(path_savematrix,\n",
    "                                                                                 cell, chr_vec[t]))\n",
    "if save_data:\n",
    "    topology_parameters = {'Parallel (%)':P, 'Series (%)':S, 'Cross (%)':X, 'N contacts': N_contacts,\n",
    "                           'Fractal dimension':Dim_fractal, 'r squared': r2_fractalfit, \n",
    "                           'Clustering': clustering}\n",
    "    \n",
    "    topology_parameters= pd.DataFrame(topology_parameters)\n",
    "    \n",
    "    topology_parameters.to_csv('{}/Top_parameters_{}.csv'.format(path_savedata, cell))\n",
    "\n"
   ]
  },
  {
   "cell_type": "code",
   "execution_count": null,
   "metadata": {},
   "outputs": [],
   "source": [
    "plt.figure()\n",
    "matrix_plot(mat, 'Cell_ID-01')\n",
    "plt.show()\n",
    "plt.savefig('/Users/jialechen/Desktop/PhD/CT/Pang_2022_GenomeBiol_3D/results/Cell_ID_01_mat.pdf')\n"
   ]
  }
 ],
 "metadata": {
  "kernelspec": {
   "display_name": "Python 3 (ipykernel)",
   "language": "python",
   "name": "python3"
  },
  "language_info": {
   "codemirror_mode": {
    "name": "ipython",
    "version": 3
   },
   "file_extension": ".py",
   "mimetype": "text/x-python",
   "name": "python",
   "nbconvert_exporter": "python",
   "pygments_lexer": "ipython3",
   "version": "3.11.6"
  }
 },
 "nbformat": 4,
 "nbformat_minor": 4
}
