{
 "cells": [
  {
   "cell_type": "code",
   "execution_count": 2,
   "metadata": {},
   "outputs": [
    {
     "name": "stdout",
     "output_type": "stream",
     "text": [
      "Results saved to /Users/jialechen/Desktop/PhD/CT/Pang_2022_GenomeBiol_3D/results/topology_result_Cell_ID_01.txt\n",
      "Results saved to /Users/jialechen/Desktop/PhD/CT/Pang_2022_GenomeBiol_3D/results/topology_result_Cell_ID_02.txt\n",
      "Results saved to /Users/jialechen/Desktop/PhD/CT/Pang_2022_GenomeBiol_3D/results/topology_result_Cell_ID_03.txt\n",
      "Results saved to /Users/jialechen/Desktop/PhD/CT/Pang_2022_GenomeBiol_3D/results/topology_result_Cell_ID_04.txt\n",
      "Results saved to /Users/jialechen/Desktop/PhD/CT/Pang_2022_GenomeBiol_3D/results/topology_result_Cell_ID_05.txt\n",
      "Results saved to /Users/jialechen/Desktop/PhD/CT/Pang_2022_GenomeBiol_3D/results/topology_result_Cell_ID_06.txt\n",
      "Results saved to /Users/jialechen/Desktop/PhD/CT/Pang_2022_GenomeBiol_3D/results/topology_result_Cell_ID_07.txt\n",
      "Results saved to /Users/jialechen/Desktop/PhD/CT/Pang_2022_GenomeBiol_3D/results/topology_result_Cell_ID_08.txt\n",
      "Results saved to /Users/jialechen/Desktop/PhD/CT/Pang_2022_GenomeBiol_3D/results/topology_result_Cell_ID_09.txt\n",
      "Results saved to /Users/jialechen/Desktop/PhD/CT/Pang_2022_GenomeBiol_3D/results/topology_result_Cell_ID_10.txt\n",
      "Results saved to /Users/jialechen/Desktop/PhD/CT/Pang_2022_GenomeBiol_3D/results/topology_result_Cell_ID_11.txt\n",
      "Results saved to /Users/jialechen/Desktop/PhD/CT/Pang_2022_GenomeBiol_3D/results/topology_result_Cell_ID_12.txt\n",
      "Results saved to /Users/jialechen/Desktop/PhD/CT/Pang_2022_GenomeBiol_3D/results/topology_result_Cell_ID_13.txt\n",
      "Results saved to /Users/jialechen/Desktop/PhD/CT/Pang_2022_GenomeBiol_3D/results/topology_result_Cell_ID_14.txt\n",
      "Results saved to /Users/jialechen/Desktop/PhD/CT/Pang_2022_GenomeBiol_3D/results/topology_result_Cell_ID_15.txt\n",
      "Results saved to /Users/jialechen/Desktop/PhD/CT/Pang_2022_GenomeBiol_3D/results/topology_result_Cell_ID_16.txt\n",
      "Results saved to /Users/jialechen/Desktop/PhD/CT/Pang_2022_GenomeBiol_3D/results/topology_result_Cell_ID_17.txt\n",
      "Results saved to /Users/jialechen/Desktop/PhD/CT/Pang_2022_GenomeBiol_3D/results/topology_result_Cell_ID_18.txt\n",
      "Results saved to /Users/jialechen/Desktop/PhD/CT/Pang_2022_GenomeBiol_3D/results/topology_result_Cell_ID_19.txt\n",
      "Results saved to /Users/jialechen/Desktop/PhD/CT/Pang_2022_GenomeBiol_3D/results/topology_result_Cell_ID_20.txt\n",
      "Results saved to /Users/jialechen/Desktop/PhD/CT/Pang_2022_GenomeBiol_3D/results/topology_result_Cell_ID_21.txt\n",
      "Results saved to /Users/jialechen/Desktop/PhD/CT/Pang_2022_GenomeBiol_3D/results/topology_result_Cell_ID_22.txt\n",
      "Results saved to /Users/jialechen/Desktop/PhD/CT/Pang_2022_GenomeBiol_3D/results/topology_result_Cell_ID_23.txt\n",
      "Results saved to /Users/jialechen/Desktop/PhD/CT/Pang_2022_GenomeBiol_3D/results/topology_result_Cell_ID_24.txt\n"
     ]
    }
   ],
   "source": [
    "def determine_topology(contact1, contact2):\n",
    "    c1_start, c1_end = sorted(contact1[1:3])\n",
    "    c2_start, c2_end = sorted(contact2[1:3])\n",
    "    if (c1_start >= c2_start and c1_end <= c2_end) or (c2_start >= c1_start and c2_end <= c1_end):\n",
    "        return \"P\"\n",
    "    elif (c1_start < c2_end and c1_end > c2_start) or (c2_start < c1_end and c2_end > c1_start):\n",
    "        return \"X\"\n",
    "    else:\n",
    "        return \"S\"\n",
    "\n",
    "# path\n",
    "base_input_path = '/Users/jialechen/Desktop/PhD/CT/Pang_2022_GenomeBiol_3D/data/hic_contact/'\n",
    "base_output_path = '/Users/jialechen/Desktop/PhD/CT/Pang_2022_GenomeBiol_3D/results/topology_result'\n",
    "\n",
    "# read and analyze each file and save the results\n",
    "for i in range(1, 25):\n",
    "    input_file_path = f\"{base_input_path}Cell_ID_{i:02d}.bed\"  # 构建每个文件的路径\n",
    "    output_file_path = f\"{base_output_path}topology_result_Cell_ID_{i:02d}.txt\"  # 输出文件的路径\n",
    "\n",
    "    # read contacts\n",
    "    contacts = []\n",
    "    with open(input_file_path, 'r') as file:\n",
    "        for line in file:\n",
    "            parts = line.strip().split()\n",
    "            chr1, start1, end1, chr2, start2, end2 = parts[:6]\n",
    "            contacts.append(((chr1, int(start1), int(end1)), (chr2, int(start2), int(end2))))\n",
    "\n",
    "    # analyze contacts\n",
    "    results = []\n",
    "    for c1, c2 in contacts:\n",
    "        topology = determine_topology(c1, c2)\n",
    "        results.append(c1 + c2 + (topology,))\n",
    "\n",
    "    # save results\n",
    "    with open(output_file_path, 'w') as out_file:\n",
    "        for result in results:\n",
    "            line = f\"{result[0]}\\t{result[1]}\\t{result[2]}\\t{result[3]}\\t{result[4]}\\t{result[5]}\\t{result[6]}\\n\"\n",
    "            out_file.write(line)\n",
    "\n",
    "    print(f\"Results saved to {output_file_path}\")\n"
   ]
  }
 ],
 "metadata": {
  "kernelspec": {
   "display_name": "Python 3",
   "language": "python",
   "name": "python3"
  },
  "language_info": {
   "codemirror_mode": {
    "name": "ipython",
    "version": 3
   },
   "file_extension": ".py",
   "mimetype": "text/x-python",
   "name": "python",
   "nbconvert_exporter": "python",
   "pygments_lexer": "ipython3",
   "version": "3.11.6"
  }
 },
 "nbformat": 4,
 "nbformat_minor": 2
}
