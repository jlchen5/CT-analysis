{
 "cells": [
  {
   "cell_type": "code",
   "execution_count": 44,
   "metadata": {},
   "outputs": [],
   "source": [
    "import numpy as np\n",
    "import os\n",
    "import pandas as pd\n",
    "from matplotlib.colors import LogNorm\n",
    "import networkx as nx\n",
    "import matplotlib.pyplot as plt\n",
    "%matplotlib inline\n",
    "import PIL.Image\n",
    "from read_HiC import name_chromosomes\n",
    "\n",
    "import sys\n",
    "path='/Users/jialechen/Desktop/PhD/CT/Pang_2022_GenomeBiol_3D/functions/'\n",
    "sys.path.append(path)\n",
    "\n",
    "from plotting_tools import set_layout\n",
    "from genome_topology import normalize_psc\n",
    "from genome_topology import get_matrix\n",
    "from genome_topology import fractal_dimension\n",
    "from genome_topology import make_graph"
   ]
  },
  {
   "cell_type": "code",
   "execution_count": 45,
   "metadata": {},
   "outputs": [
    {
     "name": "stdout",
     "output_type": "stream",
     "text": [
      "Current working directory: /Users/jialechen/Desktop/PhD/CT/Pang_2022_GenomeBiol_3D\n"
     ]
    }
   ],
   "source": [
    "import os\n",
    "current_path = os.getcwd()\n",
    "print(\"Current working directory:\", current_path)"
   ]
  },
  {
   "cell_type": "code",
   "execution_count": 46,
   "metadata": {},
   "outputs": [
    {
     "name": "stdout",
     "output_type": "stream",
     "text": [
      "Changed working directory to: /Users/jialechen/Desktop/PhD/CT/Pang_2022_GenomeBiol_3D\n"
     ]
    }
   ],
   "source": [
    "import os\n",
    "new_path = '/Users/jialechen/Desktop/PhD/CT/Pang_2022_GenomeBiol_3D'\n",
    "os.chdir(new_path)\n",
    "print(\"Changed working directory to:\", new_path)"
   ]
  },
  {
   "cell_type": "markdown",
   "metadata": {},
   "source": [
    "## CIRCUIT TOPOLOGY ANALISIS OF CHROMOSOME FROM SINGLE CELL Hi-C CONTACT LISTS"
   ]
  },
  {
   "cell_type": "markdown",
   "metadata": {},
   "source": [
    "This notebook processes single cell Hi-C contact lists (in txt format) to extract topological parameters such as:\n",
    "- CT parameters (percentage of series, parallel and cross, number of contacts) \n",
    "- Network clustering coefficient\n",
    "- Fractal dimension (calculated over the CT topology matrix)"
   ]
  },
  {
   "cell_type": "markdown",
   "metadata": {},
   "source": [
    "Load contact pair data file. Each file contains contacts from one cell."
   ]
  },
  {
   "cell_type": "code",
   "execution_count": 48,
   "metadata": {},
   "outputs": [],
   "source": [
    "n_all_chr=22 #human\n",
    "chr_vec=name_chromosomes(n_all_chr)\n",
    "save_data= True\n",
    "save_matrix= True\n",
    "plot_matrix=True"
   ]
  },
  {
   "cell_type": "markdown",
   "metadata": {},
   "source": [
    "Set path for printing results"
   ]
  },
  {
   "cell_type": "markdown",
   "metadata": {},
   "source": [
    "Calculate topological parameters looping over all chromosomes in a cell"
   ]
  },
  {
   "cell_type": "code",
   "execution_count": 49,
   "metadata": {},
   "outputs": [],
   "source": [
    "P=np.zeros(n_all_chr)\n",
    "S=np.zeros(n_all_chr)\n",
    "X=np.zeros(n_all_chr)\n",
    "Dim_fractal = np.zeros(n_all_chr)\n",
    "clustering = np.zeros(n_all_chr)\n",
    "r2_fractalfit = np.zeros(n_all_chr)\n",
    "N_contacts=np.zeros(n_all_chr)"
   ]
  },
  {
   "cell_type": "code",
   "execution_count": null,
   "metadata": {},
   "outputs": [
    {
     "name": "stderr",
     "output_type": "stream",
     "text": [
      "/tmp/ipykernel_72394/224764955.py:49: RuntimeWarning: More than 20 figures have been opened. Figures created through the pyplot interface (`matplotlib.pyplot.figure`) are retained until explicitly closed and may consume too much memory. (To control this warning, see the rcParam `figure.max_open_warning`). Consider using `matplotlib.pyplot.close()`.\n",
      "  plt.figure(figsize=(5, 5))\n"
     ]
    }
   ],
   "source": [
    "import os\n",
    "\n",
    "# 假设你的文件都在 'data' 目录下\n",
    "data_dir = 'data'\n",
    "\n",
    "# 获取 'data' 目录下所有以 'GSM6081054_Cell_ID_' 开头，以 '.contact' 结尾的文件名\n",
    "file_names = [f for f in os.listdir(data_dir) if f.startswith('GSM') and f.endswith('.txt')]\n",
    "\n",
    "# 初始化结果数据结构\n",
    "all_results = []\n",
    "\n",
    "# Loop through file names\n",
    "for file in file_names:\n",
    "    # 构建文件的完整路径\n",
    "    file_path = os.path.join(data_dir, file)\n",
    "\n",
    "    # 读取数据\n",
    "    contacts = pd.read_csv(file_path, sep='\\t')\n",
    "\n",
    "    # 提取 cell ID\n",
    "    cell = file[11:20]\n",
    "    path_savematrix='results/matrices/{}'.format(cell)\n",
    "    path_savedata='results/CT parameters'\n",
    "\n",
    "    # 初始化结果数组\n",
    "    N_contacts = np.zeros(len(chr_vec))\n",
    "    P = np.zeros(len(chr_vec))\n",
    "    S = np.zeros(len(chr_vec))\n",
    "    X = np.zeros(len(chr_vec))\n",
    "    Dim_fractal = np.zeros(len(chr_vec))\n",
    "    clustering = np.zeros(len(chr_vec))\n",
    "    r2_fractalfit = np.zeros(len(chr_vec))\n",
    "\n",
    "    # Loop through chromosomes\n",
    "    for t, chrom in enumerate(chr_vec):\n",
    "        contacts_chr = contacts[(contacts['chr_A'] == chrom) & (contacts['chr_B'] == chrom)]\n",
    "        index = [contacts_chr['pos_A'], contacts_chr['pos_B']]\n",
    "        index = np.array(index)\n",
    "        index = np.transpose(index)\n",
    "        N_contacts[t] = len(index)\n",
    "\n",
    "        mat, psc = get_matrix(index, chrom)\n",
    "        P[t], S[t], X[t] = normalize_psc(psc, N_contacts[t])\n",
    "        Dim_fractal[t], r2_fractalfit[t] = fractal_dimension(mat, plot_fig=0)\n",
    "        G = make_graph(index)\n",
    "        clustering[t] = nx.average_clustering(G)\n",
    "\n",
    "        if plot_matrix:\n",
    "            plt.figure(figsize=(5, 5))\n",
    "            plt.imshow(mat)\n",
    "            plt.title('{}'.format(chrom))\n",
    "\n",
    "        if save_matrix:\n",
    "            os.makedirs(path_savematrix, exist_ok=True) \n",
    "            PIL.Image.fromarray(mat.astype(float)).save(\n",
    "                \"{}/top_matrix_{}_{}.tif\".format(path_savematrix,cell, chrom))\n",
    "           \n",
    "        #Save results\n",
    "        if save_data:\n",
    "            topology_parameters = {'Parallel (%)':P, 'Series (%)':S, 'Cross (%)':X,\n",
    "                           'N contacts': N_contacts, 'Fractal dimension':Dim_fractal, \n",
    "                           'r squared': r2_fractalfit, 'Clustering': clustering}\n",
    "    \n",
    "            topology_parameters= pd.DataFrame(topology_parameters)\n",
    "    \n",
    "            topology_parameters.to_csv('{}/Top_parameters_{}.csv'.format(path_savedata, cell))\n",
    "            \n",
    "\n",
    "    # 创建包含样本名的 DataFrame\n",
    "    topology_parameters = {\n",
    "        'Sample': [cell] * len(chr_vec),  # 添加样本名列\n",
    "        'Parallel (%)': P,\n",
    "        'Series (%)': S,\n",
    "        'Cross (%)': X,\n",
    "        'N contacts': N_contacts,\n",
    "        'Fractal dimension': Dim_fractal,\n",
    "        'r squared': r2_fractalfit,\n",
    "        'Clustering': clustering\n",
    "    }\n",
    "\n",
    "    all_results.append({\n",
    "        'cell': cell,\n",
    "        'topology_parameters': pd.DataFrame(topology_parameters)\n",
    "    })\n",
    "\n",
    "# 合并所有结果到一个 DataFrame\n",
    "all_results_df = pd.concat([result['topology_parameters'] for result in all_results], ignore_index=True)\n",
    "\n",
    "# 保存所有结果到 CSV 文件\n",
    "if save_data:\n",
    "    all_results_df.to_csv('{}/Top_parameters_all_samples.csv'.format(path_savedata), index=False)\n"
   ]
  },
  {
   "cell_type": "code",
   "execution_count": null,
   "metadata": {},
   "outputs": [],
   "source": []
  }
 ],
 "metadata": {
  "kernelspec": {
   "display_name": "Python 3 (ipykernel)",
   "language": "python",
   "name": "python3"
  },
  "language_info": {
   "codemirror_mode": {
    "name": "ipython",
    "version": 3
   },
   "file_extension": ".py",
   "mimetype": "text/x-python",
   "name": "python",
   "nbconvert_exporter": "python",
   "pygments_lexer": "ipython3",
   "version": "3.11.5"
  }
 },
 "nbformat": 4,
 "nbformat_minor": 4
}
